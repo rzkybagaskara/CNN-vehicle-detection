{
  "nbformat": 4,
  "nbformat_minor": 0,
  "metadata": {
    "colab": {
      "provenance": []
    },
    "kernelspec": {
      "name": "python3",
      "display_name": "Python 3"
    },
    "language_info": {
      "name": "python"
    },
    "accelerator": "GPU",
    "gpuClass": "standard"
  },
  "cells": [
    {
      "cell_type": "code",
      "execution_count": null,
      "metadata": {
        "id": "zomdY8fZHZ6W"
      },
      "outputs": [],
      "source": [
        "## Dataset\n",
        "# https://www.kaggle.com/datasets/brsdincer/vehicle-detection-image-set?select=data\n",
        "\n",
        "#reference:\n",
        "## https://towardsdatascience.com/using-convolutional-neural-network-for-image-classification-5997bfd0ede4"
      ]
    },
    {
      "cell_type": "code",
      "source": [
        "! pip install kaggle"
      ],
      "metadata": {
        "colab": {
          "base_uri": "https://localhost:8080/"
        },
        "id": "AE4zzPujUVIB",
        "outputId": "73a87c80-1a84-4609-8cdc-4eb32af882bd"
      },
      "execution_count": 17,
      "outputs": [
        {
          "output_type": "stream",
          "name": "stdout",
          "text": [
            "Looking in indexes: https://pypi.org/simple, https://us-python.pkg.dev/colab-wheels/public/simple/\n",
            "Collecting kaggle\n",
            "  Using cached kaggle-1.5.12-py3-none-any.whl\n",
            "Requirement already satisfied: requests in /usr/local/lib/python3.8/dist-packages (from kaggle) (2.23.0)\n",
            "Requirement already satisfied: six>=1.10 in /usr/local/lib/python3.8/dist-packages (from kaggle) (1.15.0)\n",
            "Requirement already satisfied: certifi in /usr/local/lib/python3.8/dist-packages (from kaggle) (2022.12.7)\n",
            "Requirement already satisfied: python-dateutil in /usr/local/lib/python3.8/dist-packages (from kaggle) (2.8.2)\n",
            "Requirement already satisfied: tqdm in /usr/local/lib/python3.8/dist-packages (from kaggle) (4.64.1)\n",
            "Requirement already satisfied: python-slugify in /usr/local/lib/python3.8/dist-packages (from kaggle) (7.0.0)\n",
            "Requirement already satisfied: urllib3 in /usr/local/lib/python3.8/dist-packages (from kaggle) (1.24.3)\n",
            "Requirement already satisfied: text-unidecode>=1.3 in /usr/local/lib/python3.8/dist-packages (from python-slugify->kaggle) (1.3)\n",
            "Requirement already satisfied: idna<3,>=2.5 in /usr/local/lib/python3.8/dist-packages (from requests->kaggle) (2.10)\n",
            "Requirement already satisfied: chardet<4,>=3.0.2 in /usr/local/lib/python3.8/dist-packages (from requests->kaggle) (3.0.4)\n",
            "Installing collected packages: kaggle\n",
            "Successfully installed kaggle-1.5.12\n"
          ]
        }
      ]
    },
    {
      "cell_type": "code",
      "source": [
        "# ubah akses menjadi privat\n",
        "! chmod 600 /content/kaggle.json"
      ],
      "metadata": {
        "id": "asOUZdSrPF7g"
      },
      "execution_count": 14,
      "outputs": []
    },
    {
      "cell_type": "code",
      "source": [
        "#import dataset ke dalam file content\n",
        "! KAGGLE_CONFIG_DIR=/content/ kaggle  datasets download -d brsdincer/vehicle-detection-image-set"
      ],
      "metadata": {
        "colab": {
          "base_uri": "https://localhost:8080/"
        },
        "id": "OcADMnVyQJin",
        "outputId": "ada64a50-e1d3-4eef-d2cc-1b2bac1fdec6"
      },
      "execution_count": 23,
      "outputs": [
        {
          "output_type": "stream",
          "name": "stdout",
          "text": [
            "Downloading vehicle-detection-image-set.zip to /content\n",
            "100% 119M/119M [00:06<00:00, 21.5MB/s]\n",
            "100% 119M/119M [00:06<00:00, 18.5MB/s]\n"
          ]
        }
      ]
    },
    {
      "cell_type": "code",
      "source": [
        "import zipfile\n",
        "zip_file = zipfile.ZipFile('/content/vehicle-detection-image-set.zip', 'r')\n",
        "zip_file.extractall('/tmp')"
      ],
      "metadata": {
        "id": "M9bWSeuAY3Vh"
      },
      "execution_count": 26,
      "outputs": []
    },
    {
      "cell_type": "code",
      "source": [
        "#root directory\n",
        "base_dir = '/tmp/data'"
      ],
      "metadata": {
        "id": "algfPS-mZ6yw"
      },
      "execution_count": 27,
      "outputs": []
    },
    {
      "cell_type": "code",
      "source": [
        "#import ImageDataGenerator\n",
        "import tensorflow as tf\n",
        "from tensorflow.keras.preprocessing.image import ImageDataGenerator\n",
        "\n",
        "# harus ada yang diganti\n",
        "train_datagenerator = ImageDataGenerator(\n",
        "    brightness_range=[0.3, 0.9],\n",
        "    shear_range=0.0,\n",
        "    zoom_range=0.0,\n",
        "    channel_shift_range=0.0,\n",
        "    fill_mode='nearest',\n",
        "    cval=0.0,\n",
        "    rescale=1./255,\n",
        "    validation_split=0.5, #50/50\n",
        ")\n",
        "\n",
        "test_datagenerator = ImageDataGenerator(\n",
        "    rescale=1./255,\n",
        "    validation_split=0.5\n",
        ")"
      ],
      "metadata": {
        "id": "kGhvMQJPajmt"
      },
      "execution_count": 33,
      "outputs": []
    },
    {
      "cell_type": "code",
      "source": [
        "#Bagi data menjadi 2, satu untuk generator dan satu untuk di tes\n",
        "train_generator = train_datagenerator.flow_from_directory(\n",
        "        base_dir,\n",
        "        target_size=(150, 150),\n",
        "        batch_size=32,\n",
        "        class_mode='binary', #menggunkan binary karena dibagi ke dalam 2 kategori, satu untuk kendaraan dan satu bukan kendaraan\n",
        "        subset = 'training'\n",
        "        )\n",
        "\n",
        "validation_generator = test_datagenerator.flow_from_directory(\n",
        "        base_dir,\n",
        "        target_size=(150, 150),\n",
        "        batch_size=32,\n",
        "        class_mode='binary', #menggunkan binary karena dibagi ke dalam 2 kategori, satu untuk kendaraan dan satu bukan kendaraan\n",
        "        subset = 'validation'\n",
        "        )"
      ],
      "metadata": {
        "colab": {
          "base_uri": "https://localhost:8080/"
        },
        "id": "4Vzfq194d7I-",
        "outputId": "058502fa-81ab-49f4-8d4a-2da23f6c30b2"
      },
      "execution_count": 50,
      "outputs": [
        {
          "output_type": "stream",
          "name": "stdout",
          "text": [
            "Found 8880 images belonging to 2 classes.\n",
            "Found 8880 images belonging to 2 classes.\n"
          ]
        }
      ]
    },
    {
      "cell_type": "code",
      "source": [
        "#Buat model menggunakan library tensorflow\n",
        "# kayaknya disini harus ada yg diubah lagi\n",
        "model = tf.keras.models.Sequential([\n",
        "     tf.keras.layers.Conv2D(32, (3,3), activation='relu', input_shape=(150, 150, 3)), #Convolution Layer\n",
        "    tf.keras.layers.MaxPooling2D(2, 2), #Pooling Layer\n",
        "    tf.keras.layers.Conv2D(64, (3,3), activation='relu'),\n",
        "    tf.keras.layers.MaxPooling2D(2,2),\n",
        "    tf.keras.layers.Conv2D(128, (3,3), activation='relu'),\n",
        "    tf.keras.layers.MaxPooling2D(2,2),\n",
        "    tf.keras.layers.Conv2D(512, (3,3), activation='relu'),\n",
        "    tf.keras.layers.MaxPooling2D(2,2),\n",
        "    tf.keras.layers.Dropout(0.1), #Dropout layer untuk mencegah overfitting\n",
        "    tf.keras.layers.Flatten(),\n",
        "    tf.keras.layers.Dense(512, activation='relu'), #Dense Layer w/ relu activation\n",
        "    tf.keras.layers.Dense(512, activation='relu'),\n",
        "    tf.keras.layers.Dense(512, activation='relu'),\n",
        "    tf.keras.layers.Dropout(0.2),\n",
        "    tf.keras.layers.Dense(1, activation='sigmoid') #gunakan sigmoid karena menggunakan binary classification dan maksimum valuenya adalah 1\n",
        "])"
      ],
      "metadata": {
        "id": "hn0ddnIyfp1V"
      },
      "execution_count": 51,
      "outputs": []
    },
    {
      "cell_type": "code",
      "source": [
        "model.summary()"
      ],
      "metadata": {
        "colab": {
          "base_uri": "https://localhost:8080/"
        },
        "id": "10Rt08FjjEKt",
        "outputId": "9aba2267-fc40-48eb-f950-000dd46e7a35"
      },
      "execution_count": 52,
      "outputs": [
        {
          "output_type": "stream",
          "name": "stdout",
          "text": [
            "Model: \"sequential_3\"\n",
            "_________________________________________________________________\n",
            " Layer (type)                Output Shape              Param #   \n",
            "=================================================================\n",
            " conv2d_12 (Conv2D)          (None, 148, 148, 32)      896       \n",
            "                                                                 \n",
            " max_pooling2d_12 (MaxPoolin  (None, 74, 74, 32)       0         \n",
            " g2D)                                                            \n",
            "                                                                 \n",
            " conv2d_13 (Conv2D)          (None, 72, 72, 64)        18496     \n",
            "                                                                 \n",
            " max_pooling2d_13 (MaxPoolin  (None, 36, 36, 64)       0         \n",
            " g2D)                                                            \n",
            "                                                                 \n",
            " conv2d_14 (Conv2D)          (None, 34, 34, 128)       73856     \n",
            "                                                                 \n",
            " max_pooling2d_14 (MaxPoolin  (None, 17, 17, 128)      0         \n",
            " g2D)                                                            \n",
            "                                                                 \n",
            " conv2d_15 (Conv2D)          (None, 15, 15, 512)       590336    \n",
            "                                                                 \n",
            " max_pooling2d_15 (MaxPoolin  (None, 7, 7, 512)        0         \n",
            " g2D)                                                            \n",
            "                                                                 \n",
            " dropout_6 (Dropout)         (None, 7, 7, 512)         0         \n",
            "                                                                 \n",
            " flatten_3 (Flatten)         (None, 25088)             0         \n",
            "                                                                 \n",
            " dense_12 (Dense)            (None, 512)               12845568  \n",
            "                                                                 \n",
            " dense_13 (Dense)            (None, 512)               262656    \n",
            "                                                                 \n",
            " dense_14 (Dense)            (None, 512)               262656    \n",
            "                                                                 \n",
            " dropout_7 (Dropout)         (None, 512)               0         \n",
            "                                                                 \n",
            " dense_15 (Dense)            (None, 1)                 513       \n",
            "                                                                 \n",
            "=================================================================\n",
            "Total params: 14,054,977\n",
            "Trainable params: 14,054,977\n",
            "Non-trainable params: 0\n",
            "_________________________________________________________________\n"
          ]
        }
      ]
    },
    {
      "cell_type": "code",
      "source": [
        "model.compile(\n",
        "    optimizer =  'adam',\n",
        "    loss = 'binary_crossentropy', #gunakan binary karena untuk mendeteksi apakah gambar tersebut kendaraan atau bukan\n",
        "    metrics = ['accuracy']\n",
        ")"
      ],
      "metadata": {
        "id": "RYD0i1CpjWEe"
      },
      "execution_count": 53,
      "outputs": []
    },
    {
      "cell_type": "code",
      "source": [
        "history = model.fit(\n",
        "    train_generator,\n",
        "    epochs = 25,\n",
        "    steps_per_epoch = 20,\n",
        "    validation_data = validation_generator,\n",
        "    verbose = 2,\n",
        ")"
      ],
      "metadata": {
        "colab": {
          "base_uri": "https://localhost:8080/"
        },
        "id": "ZdhFIwNmkBMl",
        "outputId": "99258297-2289-43b8-f868-a3c3a6270297"
      },
      "execution_count": 54,
      "outputs": [
        {
          "output_type": "stream",
          "name": "stdout",
          "text": [
            "Epoch 1/25\n",
            "20/20 - 10s - loss: 0.6976 - accuracy: 0.5406 - val_loss: 0.6015 - val_accuracy: 0.5509 - 10s/epoch - 491ms/step\n",
            "Epoch 2/25\n",
            "20/20 - 9s - loss: 0.5579 - accuracy: 0.7516 - val_loss: 0.7358 - val_accuracy: 0.6208 - 9s/epoch - 429ms/step\n",
            "Epoch 3/25\n",
            "20/20 - 9s - loss: 0.4014 - accuracy: 0.8516 - val_loss: 0.5333 - val_accuracy: 0.7944 - 9s/epoch - 433ms/step\n",
            "Epoch 4/25\n",
            "20/20 - 9s - loss: 0.3542 - accuracy: 0.8484 - val_loss: 1.2324 - val_accuracy: 0.7215 - 9s/epoch - 427ms/step\n",
            "Epoch 5/25\n",
            "20/20 - 9s - loss: 0.2512 - accuracy: 0.8953 - val_loss: 1.2474 - val_accuracy: 0.6927 - 9s/epoch - 430ms/step\n",
            "Epoch 6/25\n",
            "20/20 - 10s - loss: 0.3144 - accuracy: 0.8969 - val_loss: 0.8645 - val_accuracy: 0.7680 - 10s/epoch - 492ms/step\n",
            "Epoch 7/25\n",
            "20/20 - 10s - loss: 0.2458 - accuracy: 0.8984 - val_loss: 1.1365 - val_accuracy: 0.7145 - 10s/epoch - 503ms/step\n",
            "Epoch 8/25\n",
            "20/20 - 9s - loss: 0.1572 - accuracy: 0.9500 - val_loss: 1.0414 - val_accuracy: 0.7562 - 9s/epoch - 434ms/step\n",
            "Epoch 9/25\n",
            "20/20 - 9s - loss: 0.2148 - accuracy: 0.9078 - val_loss: 0.4873 - val_accuracy: 0.8015 - 9s/epoch - 431ms/step\n",
            "Epoch 10/25\n",
            "20/20 - 9s - loss: 0.1402 - accuracy: 0.9422 - val_loss: 0.5789 - val_accuracy: 0.8191 - 9s/epoch - 461ms/step\n",
            "Epoch 11/25\n",
            "20/20 - 9s - loss: 0.1864 - accuracy: 0.9391 - val_loss: 0.5624 - val_accuracy: 0.8586 - 9s/epoch - 431ms/step\n",
            "Epoch 12/25\n",
            "20/20 - 9s - loss: 0.1618 - accuracy: 0.9391 - val_loss: 0.8012 - val_accuracy: 0.7820 - 9s/epoch - 429ms/step\n",
            "Epoch 13/25\n",
            "20/20 - 9s - loss: 0.1207 - accuracy: 0.9594 - val_loss: 0.4473 - val_accuracy: 0.8461 - 9s/epoch - 433ms/step\n",
            "Epoch 14/25\n",
            "20/20 - 9s - loss: 0.1155 - accuracy: 0.9609 - val_loss: 0.8360 - val_accuracy: 0.7711 - 9s/epoch - 437ms/step\n",
            "Epoch 15/25\n",
            "20/20 - 9s - loss: 0.0677 - accuracy: 0.9766 - val_loss: 0.2611 - val_accuracy: 0.9302 - 9s/epoch - 442ms/step\n",
            "Epoch 16/25\n",
            "20/20 - 9s - loss: 0.1506 - accuracy: 0.9422 - val_loss: 0.2528 - val_accuracy: 0.9231 - 9s/epoch - 436ms/step\n",
            "Epoch 17/25\n",
            "20/20 - 9s - loss: 0.1108 - accuracy: 0.9500 - val_loss: 0.4653 - val_accuracy: 0.8546 - 9s/epoch - 434ms/step\n",
            "Epoch 18/25\n",
            "20/20 - 9s - loss: 0.1012 - accuracy: 0.9641 - val_loss: 0.5175 - val_accuracy: 0.8212 - 9s/epoch - 429ms/step\n",
            "Epoch 19/25\n",
            "20/20 - 9s - loss: 0.1151 - accuracy: 0.9641 - val_loss: 0.2883 - val_accuracy: 0.8964 - 9s/epoch - 432ms/step\n",
            "Epoch 20/25\n",
            "20/20 - 9s - loss: 0.1069 - accuracy: 0.9531 - val_loss: 0.4938 - val_accuracy: 0.8641 - 9s/epoch - 426ms/step\n",
            "Epoch 21/25\n",
            "20/20 - 9s - loss: 0.1314 - accuracy: 0.9578 - val_loss: 0.3544 - val_accuracy: 0.8571 - 9s/epoch - 428ms/step\n",
            "Epoch 22/25\n",
            "20/20 - 9s - loss: 0.0989 - accuracy: 0.9672 - val_loss: 0.6883 - val_accuracy: 0.8484 - 9s/epoch - 435ms/step\n",
            "Epoch 23/25\n",
            "20/20 - 9s - loss: 0.0625 - accuracy: 0.9734 - val_loss: 0.3118 - val_accuracy: 0.9074 - 9s/epoch - 433ms/step\n",
            "Epoch 24/25\n",
            "20/20 - 11s - loss: 0.0898 - accuracy: 0.9703 - val_loss: 0.4390 - val_accuracy: 0.8458 - 11s/epoch - 528ms/step\n",
            "Epoch 25/25\n",
            "20/20 - 9s - loss: 0.1241 - accuracy: 0.9672 - val_loss: 0.2481 - val_accuracy: 0.8953 - 9s/epoch - 432ms/step\n"
          ]
        }
      ]
    },
    {
      "cell_type": "code",
      "source": [
        "#import library\n",
        "import numpy as np\n",
        "from google.colab import files\n",
        "from tensorflow.keras.preprocessing import image\n",
        "import matplotlib.pyplot as plt\n",
        "import matplotlib.image as mpimg\n",
        "%matplotlib inline\n",
        "     \n",
        "uploaded = files.upload()\n",
        "     \n",
        "for fn in uploaded.keys():\n",
        "     \n",
        "  # predicting images\n",
        "  path = fn\n",
        "  img = image.load_img(path, target_size=(150,150))\n",
        "     \n",
        "  imgplot = plt.imshow(img)\n",
        "  x = image.img_to_array(img)\n",
        "  x = np.expand_dims(x, axis=0)\n",
        "  images = np.vstack([x])\n",
        "     \n",
        "  classes = model.predict(images, batch_size=10)  \n",
        "  print(fn)\n",
        "  if classes==0:\n",
        "    print('bukan kendaraan')\n",
        "  else:\n",
        "    print('kendaraan')"
      ],
      "metadata": {
        "id": "mkw5fQEU_f3s",
        "colab": {
          "base_uri": "https://localhost:8080/",
          "height": 378
        },
        "outputId": "0e821e4c-7e1b-49b9-f65a-bea8c9e0072d"
      },
      "execution_count": 58,
      "outputs": [
        {
          "output_type": "display_data",
          "data": {
            "text/plain": [
              "<IPython.core.display.HTML object>"
            ],
            "text/html": [
              "\n",
              "     <input type=\"file\" id=\"files-533db02b-0efc-49ec-8e4c-37da85e96887\" name=\"files[]\" multiple disabled\n",
              "        style=\"border:none\" />\n",
              "     <output id=\"result-533db02b-0efc-49ec-8e4c-37da85e96887\">\n",
              "      Upload widget is only available when the cell has been executed in the\n",
              "      current browser session. Please rerun this cell to enable.\n",
              "      </output>\n",
              "      <script>// Copyright 2017 Google LLC\n",
              "//\n",
              "// Licensed under the Apache License, Version 2.0 (the \"License\");\n",
              "// you may not use this file except in compliance with the License.\n",
              "// You may obtain a copy of the License at\n",
              "//\n",
              "//      http://www.apache.org/licenses/LICENSE-2.0\n",
              "//\n",
              "// Unless required by applicable law or agreed to in writing, software\n",
              "// distributed under the License is distributed on an \"AS IS\" BASIS,\n",
              "// WITHOUT WARRANTIES OR CONDITIONS OF ANY KIND, either express or implied.\n",
              "// See the License for the specific language governing permissions and\n",
              "// limitations under the License.\n",
              "\n",
              "/**\n",
              " * @fileoverview Helpers for google.colab Python module.\n",
              " */\n",
              "(function(scope) {\n",
              "function span(text, styleAttributes = {}) {\n",
              "  const element = document.createElement('span');\n",
              "  element.textContent = text;\n",
              "  for (const key of Object.keys(styleAttributes)) {\n",
              "    element.style[key] = styleAttributes[key];\n",
              "  }\n",
              "  return element;\n",
              "}\n",
              "\n",
              "// Max number of bytes which will be uploaded at a time.\n",
              "const MAX_PAYLOAD_SIZE = 100 * 1024;\n",
              "\n",
              "function _uploadFiles(inputId, outputId) {\n",
              "  const steps = uploadFilesStep(inputId, outputId);\n",
              "  const outputElement = document.getElementById(outputId);\n",
              "  // Cache steps on the outputElement to make it available for the next call\n",
              "  // to uploadFilesContinue from Python.\n",
              "  outputElement.steps = steps;\n",
              "\n",
              "  return _uploadFilesContinue(outputId);\n",
              "}\n",
              "\n",
              "// This is roughly an async generator (not supported in the browser yet),\n",
              "// where there are multiple asynchronous steps and the Python side is going\n",
              "// to poll for completion of each step.\n",
              "// This uses a Promise to block the python side on completion of each step,\n",
              "// then passes the result of the previous step as the input to the next step.\n",
              "function _uploadFilesContinue(outputId) {\n",
              "  const outputElement = document.getElementById(outputId);\n",
              "  const steps = outputElement.steps;\n",
              "\n",
              "  const next = steps.next(outputElement.lastPromiseValue);\n",
              "  return Promise.resolve(next.value.promise).then((value) => {\n",
              "    // Cache the last promise value to make it available to the next\n",
              "    // step of the generator.\n",
              "    outputElement.lastPromiseValue = value;\n",
              "    return next.value.response;\n",
              "  });\n",
              "}\n",
              "\n",
              "/**\n",
              " * Generator function which is called between each async step of the upload\n",
              " * process.\n",
              " * @param {string} inputId Element ID of the input file picker element.\n",
              " * @param {string} outputId Element ID of the output display.\n",
              " * @return {!Iterable<!Object>} Iterable of next steps.\n",
              " */\n",
              "function* uploadFilesStep(inputId, outputId) {\n",
              "  const inputElement = document.getElementById(inputId);\n",
              "  inputElement.disabled = false;\n",
              "\n",
              "  const outputElement = document.getElementById(outputId);\n",
              "  outputElement.innerHTML = '';\n",
              "\n",
              "  const pickedPromise = new Promise((resolve) => {\n",
              "    inputElement.addEventListener('change', (e) => {\n",
              "      resolve(e.target.files);\n",
              "    });\n",
              "  });\n",
              "\n",
              "  const cancel = document.createElement('button');\n",
              "  inputElement.parentElement.appendChild(cancel);\n",
              "  cancel.textContent = 'Cancel upload';\n",
              "  const cancelPromise = new Promise((resolve) => {\n",
              "    cancel.onclick = () => {\n",
              "      resolve(null);\n",
              "    };\n",
              "  });\n",
              "\n",
              "  // Wait for the user to pick the files.\n",
              "  const files = yield {\n",
              "    promise: Promise.race([pickedPromise, cancelPromise]),\n",
              "    response: {\n",
              "      action: 'starting',\n",
              "    }\n",
              "  };\n",
              "\n",
              "  cancel.remove();\n",
              "\n",
              "  // Disable the input element since further picks are not allowed.\n",
              "  inputElement.disabled = true;\n",
              "\n",
              "  if (!files) {\n",
              "    return {\n",
              "      response: {\n",
              "        action: 'complete',\n",
              "      }\n",
              "    };\n",
              "  }\n",
              "\n",
              "  for (const file of files) {\n",
              "    const li = document.createElement('li');\n",
              "    li.append(span(file.name, {fontWeight: 'bold'}));\n",
              "    li.append(span(\n",
              "        `(${file.type || 'n/a'}) - ${file.size} bytes, ` +\n",
              "        `last modified: ${\n",
              "            file.lastModifiedDate ? file.lastModifiedDate.toLocaleDateString() :\n",
              "                                    'n/a'} - `));\n",
              "    const percent = span('0% done');\n",
              "    li.appendChild(percent);\n",
              "\n",
              "    outputElement.appendChild(li);\n",
              "\n",
              "    const fileDataPromise = new Promise((resolve) => {\n",
              "      const reader = new FileReader();\n",
              "      reader.onload = (e) => {\n",
              "        resolve(e.target.result);\n",
              "      };\n",
              "      reader.readAsArrayBuffer(file);\n",
              "    });\n",
              "    // Wait for the data to be ready.\n",
              "    let fileData = yield {\n",
              "      promise: fileDataPromise,\n",
              "      response: {\n",
              "        action: 'continue',\n",
              "      }\n",
              "    };\n",
              "\n",
              "    // Use a chunked sending to avoid message size limits. See b/62115660.\n",
              "    let position = 0;\n",
              "    do {\n",
              "      const length = Math.min(fileData.byteLength - position, MAX_PAYLOAD_SIZE);\n",
              "      const chunk = new Uint8Array(fileData, position, length);\n",
              "      position += length;\n",
              "\n",
              "      const base64 = btoa(String.fromCharCode.apply(null, chunk));\n",
              "      yield {\n",
              "        response: {\n",
              "          action: 'append',\n",
              "          file: file.name,\n",
              "          data: base64,\n",
              "        },\n",
              "      };\n",
              "\n",
              "      let percentDone = fileData.byteLength === 0 ?\n",
              "          100 :\n",
              "          Math.round((position / fileData.byteLength) * 100);\n",
              "      percent.textContent = `${percentDone}% done`;\n",
              "\n",
              "    } while (position < fileData.byteLength);\n",
              "  }\n",
              "\n",
              "  // All done.\n",
              "  yield {\n",
              "    response: {\n",
              "      action: 'complete',\n",
              "    }\n",
              "  };\n",
              "}\n",
              "\n",
              "scope.google = scope.google || {};\n",
              "scope.google.colab = scope.google.colab || {};\n",
              "scope.google.colab._files = {\n",
              "  _uploadFiles,\n",
              "  _uploadFilesContinue,\n",
              "};\n",
              "})(self);\n",
              "</script> "
            ]
          },
          "metadata": {}
        },
        {
          "output_type": "stream",
          "name": "stdout",
          "text": [
            "Saving extra39.png to extra39.png\n",
            "1/1 [==============================] - 0s 19ms/step\n",
            "extra39.png\n",
            "bukan kendaraan\n"
          ]
        },
        {
          "output_type": "display_data",
          "data": {
            "text/plain": [
              "<Figure size 432x288 with 1 Axes>"
            ],
            "image/png": "[encoded data removed]"
          },
          "metadata": {
            "needs_background": "light"
          }
        }
      ]
    },
    {
      "cell_type": "code",
      "source": [
        "uploaded = files.upload()\n",
        "\n",
        "for fn in uploaded.keys():\n",
        "     \n",
        "  # predicting images\n",
        "  path = fn\n",
        "  img = image.load_img(path, target_size=(150,150))\n",
        "     \n",
        "  imgplot = plt.imshow(img)\n",
        "  x = image.img_to_array(img)\n",
        "  x = np.expand_dims(x, axis=0)\n",
        "  images = np.vstack([x])\n",
        "     \n",
        "  classes = model.predict(images, batch_size=10)  \n",
        "  print(fn)\n",
        "  if classes==0:\n",
        "    print('bukan kendaraan')\n",
        "  else:\n",
        "    print('kendaraan')"
      ],
      "metadata": {
        "colab": {
          "base_uri": "https://localhost:8080/",
          "height": 378
        },
        "id": "rTKl1VALo9m4",
        "outputId": "d6465a7c-1d4b-4db4-e12e-46e55050f794"
      },
      "execution_count": 60,
      "outputs": [
        {
          "output_type": "display_data",
          "data": {
            "text/plain": [
              "<IPython.core.display.HTML object>"
            ],
            "text/html": [
              "\n",
              "     <input type=\"file\" id=\"files-33f1b09a-2e74-4d9f-aa20-de9226b232d0\" name=\"files[]\" multiple disabled\n",
              "        style=\"border:none\" />\n",
              "     <output id=\"result-33f1b09a-2e74-4d9f-aa20-de9226b232d0\">\n",
              "      Upload widget is only available when the cell has been executed in the\n",
              "      current browser session. Please rerun this cell to enable.\n",
              "      </output>\n",
              "      <script>// Copyright 2017 Google LLC\n",
              "//\n",
              "// Licensed under the Apache License, Version 2.0 (the \"License\");\n",
              "// you may not use this file except in compliance with the License.\n",
              "// You may obtain a copy of the License at\n",
              "//\n",
              "//      http://www.apache.org/licenses/LICENSE-2.0\n",
              "//\n",
              "// Unless required by applicable law or agreed to in writing, software\n",
              "// distributed under the License is distributed on an \"AS IS\" BASIS,\n",
              "// WITHOUT WARRANTIES OR CONDITIONS OF ANY KIND, either express or implied.\n",
              "// See the License for the specific language governing permissions and\n",
              "// limitations under the License.\n",
              "\n",
              "/**\n",
              " * @fileoverview Helpers for google.colab Python module.\n",
              " */\n",
              "(function(scope) {\n",
              "function span(text, styleAttributes = {}) {\n",
              "  const element = document.createElement('span');\n",
              "  element.textContent = text;\n",
              "  for (const key of Object.keys(styleAttributes)) {\n",
              "    element.style[key] = styleAttributes[key];\n",
              "  }\n",
              "  return element;\n",
              "}\n",
              "\n",
              "// Max number of bytes which will be uploaded at a time.\n",
              "const MAX_PAYLOAD_SIZE = 100 * 1024;\n",
              "\n",
              "function _uploadFiles(inputId, outputId) {\n",
              "  const steps = uploadFilesStep(inputId, outputId);\n",
              "  const outputElement = document.getElementById(outputId);\n",
              "  // Cache steps on the outputElement to make it available for the next call\n",
              "  // to uploadFilesContinue from Python.\n",
              "  outputElement.steps = steps;\n",
              "\n",
              "  return _uploadFilesContinue(outputId);\n",
              "}\n",
              "\n",
              "// This is roughly an async generator (not supported in the browser yet),\n",
              "// where there are multiple asynchronous steps and the Python side is going\n",
              "// to poll for completion of each step.\n",
              "// This uses a Promise to block the python side on completion of each step,\n",
              "// then passes the result of the previous step as the input to the next step.\n",
              "function _uploadFilesContinue(outputId) {\n",
              "  const outputElement = document.getElementById(outputId);\n",
              "  const steps = outputElement.steps;\n",
              "\n",
              "  const next = steps.next(outputElement.lastPromiseValue);\n",
              "  return Promise.resolve(next.value.promise).then((value) => {\n",
              "    // Cache the last promise value to make it available to the next\n",
              "    // step of the generator.\n",
              "    outputElement.lastPromiseValue = value;\n",
              "    return next.value.response;\n",
              "  });\n",
              "}\n",
              "\n",
              "/**\n",
              " * Generator function which is called between each async step of the upload\n",
              " * process.\n",
              " * @param {string} inputId Element ID of the input file picker element.\n",
              " * @param {string} outputId Element ID of the output display.\n",
              " * @return {!Iterable<!Object>} Iterable of next steps.\n",
              " */\n",
              "function* uploadFilesStep(inputId, outputId) {\n",
              "  const inputElement = document.getElementById(inputId);\n",
              "  inputElement.disabled = false;\n",
              "\n",
              "  const outputElement = document.getElementById(outputId);\n",
              "  outputElement.innerHTML = '';\n",
              "\n",
              "  const pickedPromise = new Promise((resolve) => {\n",
              "    inputElement.addEventListener('change', (e) => {\n",
              "      resolve(e.target.files);\n",
              "    });\n",
              "  });\n",
              "\n",
              "  const cancel = document.createElement('button');\n",
              "  inputElement.parentElement.appendChild(cancel);\n",
              "  cancel.textContent = 'Cancel upload';\n",
              "  const cancelPromise = new Promise((resolve) => {\n",
              "    cancel.onclick = () => {\n",
              "      resolve(null);\n",
              "    };\n",
              "  });\n",
              "\n",
              "  // Wait for the user to pick the files.\n",
              "  const files = yield {\n",
              "    promise: Promise.race([pickedPromise, cancelPromise]),\n",
              "    response: {\n",
              "      action: 'starting',\n",
              "    }\n",
              "  };\n",
              "\n",
              "  cancel.remove();\n",
              "\n",
              "  // Disable the input element since further picks are not allowed.\n",
              "  inputElement.disabled = true;\n",
              "\n",
              "  if (!files) {\n",
              "    return {\n",
              "      response: {\n",
              "        action: 'complete',\n",
              "      }\n",
              "    };\n",
              "  }\n",
              "\n",
              "  for (const file of files) {\n",
              "    const li = document.createElement('li');\n",
              "    li.append(span(file.name, {fontWeight: 'bold'}));\n",
              "    li.append(span(\n",
              "        `(${file.type || 'n/a'}) - ${file.size} bytes, ` +\n",
              "        `last modified: ${\n",
              "            file.lastModifiedDate ? file.lastModifiedDate.toLocaleDateString() :\n",
              "                                    'n/a'} - `));\n",
              "    const percent = span('0% done');\n",
              "    li.appendChild(percent);\n",
              "\n",
              "    outputElement.appendChild(li);\n",
              "\n",
              "    const fileDataPromise = new Promise((resolve) => {\n",
              "      const reader = new FileReader();\n",
              "      reader.onload = (e) => {\n",
              "        resolve(e.target.result);\n",
              "      };\n",
              "      reader.readAsArrayBuffer(file);\n",
              "    });\n",
              "    // Wait for the data to be ready.\n",
              "    let fileData = yield {\n",
              "      promise: fileDataPromise,\n",
              "      response: {\n",
              "        action: 'continue',\n",
              "      }\n",
              "    };\n",
              "\n",
              "    // Use a chunked sending to avoid message size limits. See b/62115660.\n",
              "    let position = 0;\n",
              "    do {\n",
              "      const length = Math.min(fileData.byteLength - position, MAX_PAYLOAD_SIZE);\n",
              "      const chunk = new Uint8Array(fileData, position, length);\n",
              "      position += length;\n",
              "\n",
              "      const base64 = btoa(String.fromCharCode.apply(null, chunk));\n",
              "      yield {\n",
              "        response: {\n",
              "          action: 'append',\n",
              "          file: file.name,\n",
              "          data: base64,\n",
              "        },\n",
              "      };\n",
              "\n",
              "      let percentDone = fileData.byteLength === 0 ?\n",
              "          100 :\n",
              "          Math.round((position / fileData.byteLength) * 100);\n",
              "      percent.textContent = `${percentDone}% done`;\n",
              "\n",
              "    } while (position < fileData.byteLength);\n",
              "  }\n",
              "\n",
              "  // All done.\n",
              "  yield {\n",
              "    response: {\n",
              "      action: 'complete',\n",
              "    }\n",
              "  };\n",
              "}\n",
              "\n",
              "scope.google = scope.google || {};\n",
              "scope.google.colab = scope.google.colab || {};\n",
              "scope.google.colab._files = {\n",
              "  _uploadFiles,\n",
              "  _uploadFilesContinue,\n",
              "};\n",
              "})(self);\n",
              "</script> "
            ]
          },
          "metadata": {}
        },
        {
          "output_type": "stream",
          "name": "stdout",
          "text": [
            "Saving 17.png to 17.png\n",
            "1/1 [==============================] - 0s 16ms/step\n",
            "17.png\n",
            "kendaraan\n"
          ]
        },
        {
          "output_type": "display_data",
          "data": {
            "text/plain": [
              "<Figure size 432x288 with 1 Axes>"
            ],
            "image/png": "[encoded data removed]"
          },
          "metadata": {
            "needs_background": "light"
          }
        }
      ]
    }
  ]
}